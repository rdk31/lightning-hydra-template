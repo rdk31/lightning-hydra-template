{
 "cells": [
  {
   "cell_type": "code",
   "execution_count": null,
   "metadata": {},
   "outputs": [],
   "source": [
    "import os\n",
    "\n",
    "from hydra import initialize, compose\n",
    "from hydra.utils import instantiate\n",
    "import rootutils\n",
    "rootutils.setup_root(os.path.abspath(''), pythonpath=True)\n",
    "\n",
    "from src.models.classifier import ClassifierLightningModule\n",
    "\n",
    "with initialize(version_base=None, config_path=\"../config\"):\n",
    "    cfg = compose(config_name=\"default.yaml\")\n",
    "\n",
    "print(cfg)\n",
    "dm = instantiate(cfg.datamodule)"
   ]
  }
 ],
 "metadata": {
  "kernelspec": {
   "display_name": "venv",
   "language": "python",
   "name": "python3"
  },
  "language_info": {
   "name": "python",
   "version": "3.12.7"
  }
 },
 "nbformat": 4,
 "nbformat_minor": 2
}
