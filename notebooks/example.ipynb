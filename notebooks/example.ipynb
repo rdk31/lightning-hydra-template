{
 "cells": [
  {
   "cell_type": "code",
   "execution_count": null,
   "metadata": {},
   "outputs": [],
   "source": [
    "import os\n",
    "\n",
    "import rootutils\n",
    "rootutils.setup_root(os.path.abspath(''), pythonpath=True)\n",
    "\n",
    "from src.model import LightningModule"
   ]
  }
 ],
 "metadata": {
  "language_info": {
   "name": "python"
  }
 },
 "nbformat": 4,
 "nbformat_minor": 2
}
